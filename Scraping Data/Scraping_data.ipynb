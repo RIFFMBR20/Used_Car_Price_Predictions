{
 "cells": [
  {
   "cell_type": "code",
   "execution_count": 78,
   "metadata": {},
   "outputs": [],
   "source": [
    "import requests\n",
    "import re\n",
    "import time\n",
    "from selenium import webdriver\n",
    "from bs4 import BeautifulSoup\n",
    "import pandas as pd\n",
    "from selenium.webdriver.chrome.service import Service\n",
    "from selenium.webdriver.common.by import By\n",
    "from selenium.common.exceptions import NoSuchElementException\n",
    "from selenium.webdriver.edge.service import Service as EdgeService\n",
    "from webdriver_manager.microsoft import EdgeChromiumDriverManager"
   ]
  },
  {
   "cell_type": "code",
   "execution_count": 79,
   "metadata": {},
   "outputs": [],
   "source": [
    "def setup_driver(url):\n",
    "    \"\"\"Setup and return the Selenium WebDriver.\"\"\"\n",
    "    options = webdriver.ChromeOptions()\n",
    "    options.add_argument(\"start-maximized\")\n",
    "    driver = webdriver.Edge(service=EdgeService(EdgeChromiumDriverManager().install()))\n",
    "    driver.maximize_window()\n",
    "    driver.get(url)\n",
    "    return driver"
   ]
  },
  {
   "cell_type": "code",
   "execution_count": 80,
   "metadata": {},
   "outputs": [],
   "source": [
    "def scrape_data(driver): \n",
    "    \"\"\"Scrape data from the webpage and return it as a list of tuples.\"\"\"\n",
    "    for i in range(500):\n",
    "        time.sleep(3)\n",
    "        try:\n",
    "            driver.find_element(By.CSS_SELECTOR, \"div._38O09 > button\").click()\n",
    "            time.sleep(2)\n",
    "        except NoSuchElementException:\n",
    "            break\n",
    "    time.sleep(5)\n",
    "    \n",
    "    products = []\n",
    "    soup = BeautifulSoup(driver.page_source, 'html.parser')\n",
    "    for item in soup.find_all('li', class_='_3V_Ww'):\n",
    "        product_name_div = item.find('div', {'data-aut-id': 'itemTitle'})\n",
    "        product_name = product_name_div.text.strip() if product_name_div else 'No name'\n",
    "        \n",
    "        item_title_div = item.find('div', {'data-aut-id': 'itemTitle'})\n",
    "        title_text = item_title_div['title'] if item_title_div else 'No title'\n",
    "        \n",
    "        fuel_match = re.search(r'\\b(Bensin|Diesel|Electric)\\b', title_text)\n",
    "        fuel = fuel_match.group(1) if fuel_match else 'No fuel'\n",
    "        \n",
    "        transmission_match = re.search(r'\\b(MT|AT|Manual|Automatic)\\b', title_text)\n",
    "        transmission = transmission_match.group(1) if transmission_match else 'No transmission'\n",
    "        \n",
    "        engine_match = re.search(r'(\\d+(\\.\\d+)?)\\s*(L|litre|liter|cc)?', title_text, re.IGNORECASE)\n",
    "        engine = engine_match.group(1) if engine_match else 'No engine size'\n",
    "        \n",
    "        subtitle_div = item.find('div', class_='_21gnE')\n",
    "        subtitle_text = subtitle_div['title'] if subtitle_div else 'No subtitle'\n",
    "        \n",
    "        year_match = re.search(r'(\\d{4})', subtitle_text)\n",
    "        year = year_match.group(1) if year_match else 'No year'\n",
    "        \n",
    "        kilometer_match = re.search(r'(\\d+(\\.\\d+)?)\\s?km', subtitle_text)\n",
    "        kilometer = kilometer_match.group(1) if kilometer_match else 'No kilometer'\n",
    "        \n",
    "        price_div = item.find('span', class_='_1zgtX')\n",
    "        price_text = price_div.text if price_div else 'No price'\n",
    "        price = re.sub(r'[^\\d]', '', price_text)\n",
    "        \n",
    "        location_div = item.find('div', {'data-aut-id': 'itemDetails'})\n",
    "        location_text = location_div.text.strip() if location_div else 'No location'\n",
    "        location = location_text.split(' ')[0] \n",
    "        \n",
    "        products.append(\n",
    "            (product_name, price, year, kilometer, fuel, transmission, engine, location)\n",
    "        )\n",
    "    return products"
   ]
  },
  {
   "cell_type": "code",
   "execution_count": 81,
   "metadata": {},
   "outputs": [],
   "source": [
    "def save_to_csv(products, filename='Raw_data.csv'):\n",
    "    \"\"\"Save the list of products to a CSV file.\"\"\"\n",
    "    df = pd.DataFrame(products, columns=['Name', 'Price', 'Year','Kilometer', 'Fuel', 'Transmission', 'Engine', 'Location'])\n",
    "    df.to_csv(filename, index=False)\n",
    "    print('File has been created')"
   ]
  },
  {
   "cell_type": "code",
   "execution_count": 82,
   "metadata": {},
   "outputs": [],
   "source": [
    "def main():\n",
    "    url = 'https://www.olx.co.id/jakarta-dki_g2000007/mobil-bekas_c198'\n",
    "    driver = setup_driver(url)\n",
    "    products = scrape_data(driver)\n",
    "    save_to_csv(products)"
   ]
  },
  {
   "cell_type": "code",
   "execution_count": 83,
   "metadata": {},
   "outputs": [
    {
     "name": "stdout",
     "output_type": "stream",
     "text": [
      "File has been created\n"
     ]
    }
   ],
   "source": [
    "if __name__ == \"__main__\":\n",
    "    main()"
   ]
  }
 ],
 "metadata": {
  "kernelspec": {
   "display_name": ".venv",
   "language": "python",
   "name": "python3"
  },
  "language_info": {
   "codemirror_mode": {
    "name": "ipython",
    "version": 3
   },
   "file_extension": ".py",
   "mimetype": "text/x-python",
   "name": "python",
   "nbconvert_exporter": "python",
   "pygments_lexer": "ipython3",
   "version": "3.10.6"
  }
 },
 "nbformat": 4,
 "nbformat_minor": 2
}
